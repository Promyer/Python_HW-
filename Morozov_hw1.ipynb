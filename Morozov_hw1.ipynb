{
 "cells": [
  {
   "cell_type": "markdown",
   "metadata": {},
   "source": [
    "**Общая информация**\n",
    "\n",
    "**Срок сдачи:** 18 октября 2017, 06:00 <br\\>\n",
    "**Штраф за опоздание:** -2 балла после 06:00 18 октября, -4 балла после 06:00 25 октября, -6 баллов после 06:00 1 ноября\n",
    "\n",
    "При отправлении ДЗ указывайте фамилию в названии файла\n",
    "Присылать ДЗ необходимо в виде ссылки на свой github репозиторий в slack @alkhamush\n",
    "\n",
    "Необходимо в slack создать таск в приватный чат:\n",
    "/todo Фамилия Имя ссылка на гитхаб @alkhamush\n",
    "Пример:\n",
    "/todo Ксения Стройкова https://github.com/stroykova/spheremailru/stroykova_hw1.ipynb @alkhamush\n",
    "Дополнительно нужно просто скинуть ссылку в slack в личный чат\n",
    "\n",
    "Используйте данный Ipython Notebook при оформлении домашнего задания."
   ]
  },
  {
   "cell_type": "markdown",
   "metadata": {},
   "source": [
    "###### Задание 1 (2 баллов)\n",
    "Реализовать KNN в классе MyKNeighborsClassifier (обязательное условие: точность не ниже sklearn реализации)\n",
    "Разберитесь самостоятельно, какая мера расстояния используется в KNeighborsClassifier дефолтно и реализуйте свой алгоритм именно с этой мерой. Самостоятельно разберитесь, как считается score из KNeighborsClassifier и реализуйте аналог в своём классе. Score не должен уступать значению KNN из sklearn\n",
    "\n",
    "###### Задание 2 (2 балла)\n",
    "Добиться скорости работы на fit,  predict и predict_proba сравнимой со sklearn для iris и mnist\n",
    "Для этого используем numpy\n",
    "\n",
    "###### Задание 3 (2 балла)\n",
    "Для iris найдите такой параметр n_neighbors, при котором выдаётся наилучший score. Нарисуйте график зависимости score от n_neighbors\n",
    "\n",
    "###### Задание 4 (3 балла)\n",
    "Добавить algorithm='kd_tree' в реализацию KNN (использовать KDTree из sklearn.neighbors). Значение n_neighbors нужно взять из задания 3. Добиться скорости работы на fit,  predict и predict_proba сравнимой со sklearn для iris и mnist\n",
    "Для этого используем numpy. Score не должен уступать значению KNN из sklearn\n",
    "\n",
    "###### Задание 5 (1 балла)\n",
    "Описать для чего нужны следующие библиотеки/классы/функции (список будет ниже)\n",
    "\n",
    "**Штрафные баллы:**\n",
    "\n",
    "1. Невыполнение PEP8 -1 балл\n",
    "2. Отсутствие фамилии в имени скрипта (скрипт должен называться по аналогии со stroykova_hw1.ipynb) -1 балл\n",
    "3. Все строчки должны быть выполнены. Нужно, чтобы output команды можно было увидеть уже в git'е. В противном случае -1 балл\n",
    "4. При оформлении ДЗ нужно пользоваться данным файлом в качестве шаблона. Не нужно удалять и видоизменять структуру кода и текст. В противном случае -1 балл\n"
   ]
  },
  {
   "cell_type": "code",
   "execution_count": 1,
   "metadata": {},
   "outputs": [],
   "source": [
    "import numpy as np\n",
    "import matplotlib.pyplot as plt\n",
    "\n",
    "import seaborn as sns\n",
    "from sklearn import datasets\n",
    "from sklearn.neighbors import KDTree\n",
    "from sklearn.base import ClassifierMixin\n",
    "from sklearn.datasets import fetch_mldata\n",
    "from sklearn.neighbors.base import NeighborsBase, KNeighborsMixin, SupervisedIntegerMixin \n",
    "from sklearn.model_selection import train_test_split\n",
    "from sklearn.neighbors import KNeighborsClassifier\n",
    "import numpy.linalg as ln\n",
    "import numpy as np\n",
    "import scipy.spatial.distance as dist\n",
    "%load_ext pycodestyle_magic"
   ]
  },
  {
   "cell_type": "code",
   "execution_count": 2,
   "metadata": {},
   "outputs": [],
   "source": [
    "#%%pycodestyle\n",
    "\n",
    "\n",
    "class MyKNeighborsClassifier(NeighborsBase,\n",
    "                             KNeighborsMixin, SupervisedIntegerMixin,\n",
    "                             ClassifierMixin):\n",
    "\n",
    "    def __init__(self, n_neighbors = 17, algorithm=None):\n",
    "        self.n_neighbors = n_neighbors\n",
    "        self.algorithm = algorithm\n",
    "\n",
    "    def fit(self, X, y):\n",
    "        self.X_train = X\n",
    "        self.y_train = y\n",
    "        if (self.algorithm == \"kd_tree\"):\n",
    "            self.tree = KDTree(self.X_train)\n",
    "        \n",
    "    def predict(self, X):\n",
    "        if (self.algorithm == \"kd_tree\"):\n",
    "            cl_dist, indexes = self.tree.query(X, self.n_neighbors)\n",
    "        else:\n",
    "            indexes = dist.cdist(self.X_train, X).T.argsort()[:, :self.n_neighbors]\n",
    "        classes = self.y_train[indexes].astype(int)\n",
    "        max_val_class = int(self.y_train.max())\n",
    "        classes_count = np.apply_along_axis(\n",
    "            lambda x: np.bincount(x, minlength=max_val_class + 1),\n",
    "            axis=1, arr=classes)\n",
    "        return classes_count.argmax(axis=1)\n",
    "\n",
    "    def predict_proba(self, X):\n",
    "        if (self.algorithm == \"kd_tree\"):\n",
    "            cl_dist, indexes = self.tree.query(X, self.n_neighbors)\n",
    "        else:\n",
    "            indexes = dist.cdist(self.X_train, X).T.argsort()[:, :self.n_neighbors]\n",
    "        classes = self.y_train[indexes].astype(int)\n",
    "        max_val_class = int(self.y_train.max())\n",
    "        classes_count = np.apply_along_axis(\n",
    "            lambda x: np.bincount(x, minlength=max_val_class + 1),\n",
    "            axis=1, arr=classes)\n",
    "        return classes_count/(classes_count.sum(axis=1)[:, None])\n",
    "\n",
    "    def score(self, X, y):\n",
    "        y_predict = self.predict(X)\n",
    "        return len((np.where(y_predict - y == 0))[0])/len(y)\n",
    "\n"
   ]
  },
  {
   "cell_type": "markdown",
   "metadata": {},
   "source": [
    "**IRIS**"
   ]
  },
  {
   "cell_type": "code",
   "execution_count": 3,
   "metadata": {},
   "outputs": [],
   "source": [
    "iris = datasets.load_iris()"
   ]
  },
  {
   "cell_type": "code",
   "execution_count": 4,
   "metadata": {},
   "outputs": [],
   "source": [
    "X_train, X_test, y_train, y_test = train_test_split(iris.data, iris.target, test_size=0.1, stratify=iris.target)"
   ]
  },
  {
   "cell_type": "code",
   "execution_count": 5,
   "metadata": {},
   "outputs": [],
   "source": [
    "clf = KNeighborsClassifier(n_neighbors=2)\n",
    "my_clf = MyKNeighborsClassifier (n_neighbors=2)"
   ]
  },
  {
   "cell_type": "code",
   "execution_count": 6,
   "metadata": {},
   "outputs": [
    {
     "name": "stdout",
     "output_type": "stream",
     "text": [
      "CPU times: user 1.21 ms, sys: 269 µs, total: 1.48 ms\n",
      "Wall time: 1.32 ms\n"
     ]
    },
    {
     "data": {
      "text/plain": [
       "KNeighborsClassifier(algorithm='auto', leaf_size=30, metric='minkowski',\n",
       "           metric_params=None, n_jobs=1, n_neighbors=2, p=2,\n",
       "           weights='uniform')"
      ]
     },
     "execution_count": 6,
     "metadata": {},
     "output_type": "execute_result"
    }
   ],
   "source": [
    "%time clf.fit(X_train, y_train)"
   ]
  },
  {
   "cell_type": "code",
   "execution_count": 7,
   "metadata": {},
   "outputs": [
    {
     "name": "stdout",
     "output_type": "stream",
     "text": [
      "CPU times: user 15 µs, sys: 3 µs, total: 18 µs\n",
      "Wall time: 26 µs\n"
     ]
    }
   ],
   "source": [
    "%time my_clf.fit(X_train, y_train)"
   ]
  },
  {
   "cell_type": "code",
   "execution_count": 8,
   "metadata": {},
   "outputs": [
    {
     "name": "stdout",
     "output_type": "stream",
     "text": [
      "CPU times: user 485 µs, sys: 2.63 ms, total: 3.12 ms\n",
      "Wall time: 2.44 ms\n"
     ]
    },
    {
     "data": {
      "text/plain": [
       "array([2, 1, 1, 1, 1, 2, 0, 2, 0, 0, 0, 2, 2, 1, 0])"
      ]
     },
     "execution_count": 8,
     "metadata": {},
     "output_type": "execute_result"
    }
   ],
   "source": [
    "%time clf.predict(X_test)"
   ]
  },
  {
   "cell_type": "code",
   "execution_count": 9,
   "metadata": {},
   "outputs": [
    {
     "name": "stdout",
     "output_type": "stream",
     "text": [
      "CPU times: user 1.04 ms, sys: 231 µs, total: 1.27 ms\n",
      "Wall time: 845 µs\n"
     ]
    },
    {
     "data": {
      "text/plain": [
       "array([2, 1, 1, 1, 1, 2, 0, 2, 0, 0, 0, 2, 2, 1, 0])"
      ]
     },
     "execution_count": 9,
     "metadata": {},
     "output_type": "execute_result"
    }
   ],
   "source": [
    "%time my_clf.predict(X_test)"
   ]
  },
  {
   "cell_type": "code",
   "execution_count": 10,
   "metadata": {},
   "outputs": [
    {
     "name": "stdout",
     "output_type": "stream",
     "text": [
      "CPU times: user 1.94 ms, sys: 0 ns, total: 1.94 ms\n",
      "Wall time: 1.48 ms\n"
     ]
    },
    {
     "data": {
      "text/plain": [
       "array([[0., 0., 1.],\n",
       "       [0., 1., 0.],\n",
       "       [0., 1., 0.],\n",
       "       [0., 1., 0.],\n",
       "       [0., 1., 0.],\n",
       "       [0., 0., 1.],\n",
       "       [1., 0., 0.],\n",
       "       [0., 0., 1.],\n",
       "       [1., 0., 0.],\n",
       "       [1., 0., 0.],\n",
       "       [1., 0., 0.],\n",
       "       [0., 0., 1.],\n",
       "       [0., 0., 1.],\n",
       "       [0., 1., 0.],\n",
       "       [1., 0., 0.]])"
      ]
     },
     "execution_count": 10,
     "metadata": {},
     "output_type": "execute_result"
    }
   ],
   "source": [
    "%time clf.predict_proba(X_test)"
   ]
  },
  {
   "cell_type": "code",
   "execution_count": 11,
   "metadata": {},
   "outputs": [
    {
     "name": "stdout",
     "output_type": "stream",
     "text": [
      "CPU times: user 1.2 ms, sys: 266 µs, total: 1.46 ms\n",
      "Wall time: 1.08 ms\n"
     ]
    },
    {
     "data": {
      "text/plain": [
       "array([[0., 0., 1.],\n",
       "       [0., 1., 0.],\n",
       "       [0., 1., 0.],\n",
       "       [0., 1., 0.],\n",
       "       [0., 1., 0.],\n",
       "       [0., 0., 1.],\n",
       "       [1., 0., 0.],\n",
       "       [0., 0., 1.],\n",
       "       [1., 0., 0.],\n",
       "       [1., 0., 0.],\n",
       "       [1., 0., 0.],\n",
       "       [0., 0., 1.],\n",
       "       [0., 0., 1.],\n",
       "       [0., 1., 0.],\n",
       "       [1., 0., 0.]])"
      ]
     },
     "execution_count": 11,
     "metadata": {},
     "output_type": "execute_result"
    }
   ],
   "source": [
    "%time my_clf.predict_proba(X_test)"
   ]
  },
  {
   "cell_type": "code",
   "execution_count": 12,
   "metadata": {},
   "outputs": [
    {
     "data": {
      "text/plain": [
       "1.0"
      ]
     },
     "execution_count": 12,
     "metadata": {},
     "output_type": "execute_result"
    }
   ],
   "source": [
    "clf.score(X_test, y_test)"
   ]
  },
  {
   "cell_type": "code",
   "execution_count": 13,
   "metadata": {},
   "outputs": [
    {
     "data": {
      "text/plain": [
       "1.0"
      ]
     },
     "execution_count": 13,
     "metadata": {},
     "output_type": "execute_result"
    }
   ],
   "source": [
    "my_clf.score(X_test, y_test)"
   ]
  },
  {
   "cell_type": "markdown",
   "metadata": {},
   "source": [
    "Задание 3"
   ]
  },
  {
   "cell_type": "code",
   "execution_count": 14,
   "metadata": {},
   "outputs": [
    {
     "name": "stdout",
     "output_type": "stream",
     "text": [
      "17\n"
     ]
    },
    {
     "data": {
      "image/png": "[encoded data removed]",
      "text/plain": [
       "<Figure size 432x288 with 1 Axes>"
      ]
     },
     "metadata": {},
     "output_type": "display_data"
    }
   ],
   "source": [
    "num = 20\n",
    "bunch = 100\n",
    "ans = np.zeros(num)\n",
    "m = np.zeros(bunch)\n",
    "for j in range(1, num + 1):\n",
    "    for i in range(0, bunch):\n",
    "        X_train, X_test, y_train, y_test = train_test_split(\n",
    "            iris.data, iris.target, test_size=0.1, stratify=iris.target)\n",
    "        my_clf = MyKNeighborsClassifier(n_neighbors=j)\n",
    "        my_clf.fit(X_train, y_train)\n",
    "        m[i] = my_clf.score(X_test, y_test)\n",
    "    ans[j-1] = m.mean()\n",
    "print(ans.argmax()+1)\n",
    "plt.plot(range(1, num + 1), ans, 'red')\n",
    "plt.show()"
   ]
  },
  {
   "cell_type": "markdown",
   "metadata": {},
   "source": [
    "**MNIST**"
   ]
  },
  {
   "cell_type": "code",
   "execution_count": 15,
   "metadata": {},
   "outputs": [],
   "source": [
    "mnist = fetch_mldata('MNIST original')"
   ]
  },
  {
   "cell_type": "code",
   "execution_count": 16,
   "metadata": {},
   "outputs": [],
   "source": [
    "X_train, X_test, y_train, y_test = train_test_split(mnist.data, mnist.target, test_size=0.01, stratify=mnist.target)"
   ]
  },
  {
   "cell_type": "code",
   "execution_count": 17,
   "metadata": {},
   "outputs": [],
   "source": [
    "clf = KNeighborsClassifier(n_neighbors=2)\n",
    "my_clf = MyKNeighborsClassifier(n_neighbors=2)"
   ]
  },
  {
   "cell_type": "code",
   "execution_count": 18,
   "metadata": {},
   "outputs": [
    {
     "name": "stdout",
     "output_type": "stream",
     "text": [
      "CPU times: user 2min 13s, sys: 738 ms, total: 2min 13s\n",
      "Wall time: 2min 14s\n"
     ]
    },
    {
     "data": {
      "text/plain": [
       "KNeighborsClassifier(algorithm='auto', leaf_size=30, metric='minkowski',\n",
       "           metric_params=None, n_jobs=1, n_neighbors=2, p=2,\n",
       "           weights='uniform')"
      ]
     },
     "execution_count": 18,
     "metadata": {},
     "output_type": "execute_result"
    }
   ],
   "source": [
    "%time clf.fit(X_train, y_train)"
   ]
  },
  {
   "cell_type": "code",
   "execution_count": 19,
   "metadata": {},
   "outputs": [
    {
     "name": "stdout",
     "output_type": "stream",
     "text": [
      "CPU times: user 12 µs, sys: 1 µs, total: 13 µs\n",
      "Wall time: 19.6 µs\n"
     ]
    }
   ],
   "source": [
    "%time my_clf.fit(X_train, y_train)"
   ]
  },
  {
   "cell_type": "code",
   "execution_count": 20,
   "metadata": {},
   "outputs": [
    {
     "name": "stdout",
     "output_type": "stream",
     "text": [
      "CPU times: user 2min 24s, sys: 20.3 ms, total: 2min 24s\n",
      "Wall time: 2min 24s\n"
     ]
    },
    {
     "data": {
      "text/plain": [
       "array([1., 9., 3., 0., 6., 0., 5., 3., 8., 8., 3., 8., 4., 6., 3., 6., 8.,\n",
       "       1., 2., 7., 4., 4., 9., 1., 8., 6., 6., 7., 2., 7., 1., 7., 1., 6.,\n",
       "       6., 2., 1., 1., 3., 0., 7., 2., 3., 1., 1., 9., 6., 4., 2., 5., 5.,\n",
       "       7., 8., 1., 3., 1., 6., 1., 4., 7., 8., 1., 2., 6., 1., 8., 9., 1.,\n",
       "       2., 1., 9., 8., 2., 0., 4., 8., 5., 5., 6., 1., 7., 2., 5., 4., 6.,\n",
       "       4., 1., 5., 1., 2., 1., 4., 5., 2., 8., 1., 1., 5., 1., 0., 9., 0.,\n",
       "       2., 9., 9., 0., 0., 1., 3., 2., 5., 0., 2., 0., 4., 9., 6., 9., 9.,\n",
       "       8., 9., 4., 5., 1., 7., 2., 2., 5., 1., 3., 7., 7., 6., 1., 4., 1.,\n",
       "       4., 7., 8., 9., 5., 8., 0., 3., 7., 2., 8., 1., 0., 3., 9., 3., 9.,\n",
       "       5., 7., 4., 9., 6., 6., 5., 2., 5., 7., 0., 9., 4., 7., 0., 5., 0.,\n",
       "       9., 0., 1., 7., 5., 0., 2., 3., 0., 8., 0., 1., 2., 1., 7., 1., 5.,\n",
       "       0., 2., 9., 0., 2., 8., 2., 1., 3., 3., 4., 5., 3., 4., 4., 8., 4.,\n",
       "       3., 1., 3., 2., 7., 5., 2., 5., 9., 7., 7., 2., 9., 5., 4., 1., 7.,\n",
       "       0., 1., 7., 4., 9., 0., 6., 0., 8., 6., 2., 9., 1., 1., 1., 3., 4.,\n",
       "       9., 6., 3., 3., 0., 4., 3., 5., 1., 7., 0., 2., 4., 2., 7., 3., 1.,\n",
       "       5., 2., 4., 2., 4., 3., 6., 9., 0., 2., 7., 7., 6., 7., 9., 3., 8.,\n",
       "       8., 3., 7., 0., 3., 4., 8., 4., 3., 3., 1., 4., 1., 7., 3., 7., 8.,\n",
       "       3., 2., 2., 7., 3., 8., 3., 4., 5., 7., 9., 4., 0., 4., 3., 0., 5.,\n",
       "       2., 0., 4., 3., 0., 0., 4., 0., 4., 7., 1., 1., 4., 2., 0., 7., 0.,\n",
       "       6., 8., 3., 1., 7., 1., 3., 3., 1., 8., 9., 7., 0., 5., 1., 3., 6.,\n",
       "       6., 3., 4., 3., 1., 1., 0., 3., 1., 1., 6., 5., 0., 9., 7., 5., 6.,\n",
       "       0., 7., 1., 5., 0., 3., 7., 8., 7., 8., 7., 2., 7., 3., 6., 4., 9.,\n",
       "       1., 5., 7., 8., 2., 2., 3., 2., 1., 5., 9., 6., 4., 8., 1., 5., 6.,\n",
       "       0., 6., 0., 8., 1., 7., 6., 0., 1., 3., 1., 7., 7., 2., 4., 5., 2.,\n",
       "       0., 8., 6., 5., 7., 1., 4., 9., 8., 4., 2., 7., 2., 6., 2., 0., 8.,\n",
       "       2., 4., 5., 6., 5., 0., 6., 7., 9., 1., 4., 1., 3., 9., 7., 9., 8.,\n",
       "       5., 7., 4., 1., 2., 5., 9., 8., 2., 0., 7., 9., 6., 9., 7., 4., 5.,\n",
       "       9., 4., 0., 4., 4., 2., 6., 0., 5., 7., 7., 8., 0., 9., 6., 2., 7.,\n",
       "       1., 8., 0., 0., 7., 7., 3., 5., 8., 0., 9., 6., 4., 7., 9., 6., 1.,\n",
       "       8., 6., 4., 9., 9., 2., 5., 2., 4., 9., 0., 7., 0., 8., 3., 7., 6.,\n",
       "       3., 0., 1., 4., 6., 4., 3., 9., 1., 4., 9., 5., 0., 8., 9., 9., 5.,\n",
       "       4., 8., 9., 3., 7., 7., 1., 0., 2., 1., 2., 2., 3., 6., 7., 5., 6.,\n",
       "       0., 2., 4., 8., 5., 7., 6., 5., 7., 3., 3., 9., 9., 8., 5., 4., 8.,\n",
       "       4., 5., 2., 9., 0., 9., 1., 5., 6., 9., 6., 2., 6., 6., 4., 4., 3.,\n",
       "       7., 5., 1., 1., 0., 8., 8., 5., 8., 4., 1., 6., 3., 2., 6., 8., 6.,\n",
       "       9., 6., 5., 2., 0., 6., 1., 8., 8., 8., 6., 8., 7., 2., 4., 9., 6.,\n",
       "       1., 2., 3., 3., 8., 1., 6., 0., 6., 7., 3., 1., 6., 9., 2., 5., 7.,\n",
       "       8., 9., 8., 0., 1., 8., 6., 8., 6., 0., 9., 8., 8., 9., 8., 4., 7.,\n",
       "       5., 9., 3., 5., 6., 3., 6., 3., 4., 3., 3., 0., 0., 5., 5., 3., 0.,\n",
       "       0., 0., 2., 2., 2., 8., 2., 3., 2., 2., 3., 9., 6., 9., 9., 4., 4.,\n",
       "       5., 7., 3., 1., 5., 4., 7., 2., 9., 0., 7., 3., 0., 6., 4., 4., 7.,\n",
       "       9., 5., 9.])"
      ]
     },
     "execution_count": 20,
     "metadata": {},
     "output_type": "execute_result"
    }
   ],
   "source": [
    "%time clf.predict(X_test)"
   ]
  },
  {
   "cell_type": "code",
   "execution_count": 21,
   "metadata": {},
   "outputs": [
    {
     "name": "stdout",
     "output_type": "stream",
     "text": [
      "CPU times: user 1min 5s, sys: 1.19 s, total: 1min 6s\n",
      "Wall time: 1min 7s\n"
     ]
    },
    {
     "data": {
      "text/plain": [
       "array([1, 9, 3, 0, 6, 0, 5, 3, 8, 8, 3, 8, 4, 6, 3, 6, 8, 1, 2, 7, 4, 4,\n",
       "       9, 1, 8, 6, 6, 7, 2, 7, 1, 7, 1, 6, 6, 2, 1, 1, 3, 0, 7, 2, 3, 1,\n",
       "       1, 9, 6, 4, 2, 5, 5, 7, 8, 1, 3, 1, 6, 1, 4, 7, 8, 1, 2, 6, 1, 8,\n",
       "       9, 1, 2, 1, 9, 8, 2, 0, 4, 8, 5, 5, 6, 1, 7, 2, 5, 4, 6, 4, 1, 5,\n",
       "       1, 2, 1, 4, 5, 2, 8, 1, 1, 5, 1, 0, 9, 0, 2, 9, 9, 0, 0, 1, 3, 2,\n",
       "       5, 0, 2, 0, 4, 9, 6, 9, 9, 8, 9, 4, 5, 1, 7, 2, 2, 5, 1, 3, 7, 7,\n",
       "       6, 1, 4, 1, 4, 7, 8, 9, 5, 8, 0, 3, 7, 2, 8, 1, 0, 3, 9, 3, 9, 5,\n",
       "       7, 4, 9, 6, 6, 5, 2, 5, 7, 0, 9, 4, 7, 0, 5, 0, 9, 0, 1, 7, 5, 0,\n",
       "       2, 3, 0, 8, 0, 1, 2, 1, 7, 1, 5, 0, 2, 9, 0, 2, 8, 2, 1, 3, 3, 4,\n",
       "       5, 3, 4, 4, 8, 4, 3, 1, 3, 2, 7, 5, 2, 5, 9, 7, 7, 2, 9, 5, 4, 1,\n",
       "       7, 0, 1, 7, 4, 9, 0, 6, 0, 8, 6, 2, 9, 1, 1, 1, 3, 4, 9, 6, 3, 3,\n",
       "       0, 4, 3, 5, 1, 7, 0, 2, 4, 2, 7, 3, 1, 5, 2, 4, 2, 4, 3, 6, 9, 0,\n",
       "       2, 7, 7, 6, 7, 9, 3, 8, 8, 3, 7, 0, 3, 4, 8, 4, 3, 3, 1, 4, 1, 7,\n",
       "       3, 7, 8, 3, 2, 2, 7, 3, 8, 3, 4, 5, 7, 9, 4, 0, 4, 3, 0, 5, 2, 0,\n",
       "       4, 3, 0, 0, 4, 0, 4, 7, 1, 1, 4, 2, 0, 7, 0, 6, 8, 3, 1, 7, 1, 3,\n",
       "       3, 1, 8, 9, 7, 0, 5, 1, 3, 6, 6, 3, 4, 3, 1, 1, 0, 3, 1, 1, 6, 5,\n",
       "       0, 9, 7, 5, 6, 0, 7, 1, 5, 0, 3, 7, 8, 7, 8, 7, 2, 7, 3, 6, 4, 9,\n",
       "       1, 5, 7, 8, 2, 2, 3, 2, 1, 5, 9, 6, 4, 8, 1, 5, 6, 0, 6, 0, 8, 1,\n",
       "       7, 6, 0, 1, 3, 1, 7, 7, 2, 4, 5, 2, 0, 8, 6, 5, 7, 1, 4, 9, 8, 4,\n",
       "       2, 7, 2, 6, 2, 0, 8, 2, 4, 5, 6, 5, 0, 6, 7, 9, 1, 4, 1, 3, 9, 7,\n",
       "       9, 8, 5, 7, 4, 1, 2, 5, 9, 8, 2, 0, 7, 9, 6, 9, 7, 4, 5, 9, 4, 0,\n",
       "       4, 4, 2, 6, 0, 5, 7, 7, 8, 0, 9, 6, 2, 7, 1, 8, 0, 0, 7, 7, 3, 5,\n",
       "       8, 0, 9, 6, 4, 7, 9, 6, 1, 8, 6, 4, 9, 9, 2, 5, 2, 4, 9, 0, 7, 0,\n",
       "       8, 3, 7, 6, 3, 0, 1, 4, 6, 4, 3, 9, 1, 4, 9, 5, 0, 8, 9, 9, 5, 4,\n",
       "       8, 9, 3, 7, 7, 1, 0, 2, 1, 2, 2, 3, 6, 7, 5, 6, 0, 2, 4, 8, 5, 7,\n",
       "       6, 5, 7, 3, 3, 9, 9, 8, 5, 4, 8, 4, 5, 2, 9, 0, 9, 1, 5, 6, 9, 6,\n",
       "       2, 6, 6, 4, 4, 3, 7, 5, 1, 1, 0, 8, 8, 5, 8, 4, 1, 6, 3, 2, 6, 8,\n",
       "       6, 9, 6, 5, 2, 0, 6, 1, 8, 8, 8, 6, 8, 7, 2, 4, 9, 6, 1, 2, 3, 3,\n",
       "       8, 1, 6, 0, 6, 7, 3, 1, 6, 9, 2, 5, 7, 8, 9, 8, 0, 1, 8, 6, 8, 6,\n",
       "       0, 9, 8, 8, 9, 8, 4, 7, 5, 9, 3, 5, 6, 3, 6, 3, 4, 3, 3, 0, 0, 5,\n",
       "       5, 3, 0, 0, 0, 2, 2, 2, 8, 2, 3, 2, 2, 3, 9, 6, 9, 9, 4, 4, 5, 7,\n",
       "       3, 1, 5, 4, 7, 2, 9, 0, 7, 3, 0, 6, 4, 4, 7, 9, 5, 9])"
      ]
     },
     "execution_count": 21,
     "metadata": {},
     "output_type": "execute_result"
    }
   ],
   "source": [
    "%time my_clf.predict(X_test)"
   ]
  },
  {
   "cell_type": "code",
   "execution_count": 22,
   "metadata": {},
   "outputs": [
    {
     "name": "stdout",
     "output_type": "stream",
     "text": [
      "CPU times: user 2min 12s, sys: 13.4 ms, total: 2min 12s\n",
      "Wall time: 2min 13s\n"
     ]
    },
    {
     "data": {
      "text/plain": [
       "array([[0., 1., 0., ..., 0., 0., 0.],\n",
       "       [0., 0., 0., ..., 0., 0., 1.],\n",
       "       [0., 0., 0., ..., 0., 0., 0.],\n",
       "       ...,\n",
       "       [0., 0., 0., ..., 0., 0., 1.],\n",
       "       [0., 0., 0., ..., 0., 0., 0.],\n",
       "       [0., 0., 0., ..., 0., 0., 1.]])"
      ]
     },
     "execution_count": 22,
     "metadata": {},
     "output_type": "execute_result"
    }
   ],
   "source": [
    "%time clf.predict_proba(X_test)"
   ]
  },
  {
   "cell_type": "code",
   "execution_count": 23,
   "metadata": {},
   "outputs": [
    {
     "name": "stdout",
     "output_type": "stream",
     "text": [
      "CPU times: user 51.5 s, sys: 843 ms, total: 52.3 s\n",
      "Wall time: 52.6 s\n"
     ]
    },
    {
     "data": {
      "text/plain": [
       "array([[0., 1., 0., ..., 0., 0., 0.],\n",
       "       [0., 0., 0., ..., 0., 0., 1.],\n",
       "       [0., 0., 0., ..., 0., 0., 0.],\n",
       "       ...,\n",
       "       [0., 0., 0., ..., 0., 0., 1.],\n",
       "       [0., 0., 0., ..., 0., 0., 0.],\n",
       "       [0., 0., 0., ..., 0., 0., 1.]])"
      ]
     },
     "execution_count": 23,
     "metadata": {},
     "output_type": "execute_result"
    }
   ],
   "source": [
    "%time my_clf.predict_proba(X_test)"
   ]
  },
  {
   "cell_type": "code",
   "execution_count": 24,
   "metadata": {},
   "outputs": [
    {
     "data": {
      "text/plain": [
       "0.9614285714285714"
      ]
     },
     "execution_count": 24,
     "metadata": {},
     "output_type": "execute_result"
    }
   ],
   "source": [
    "clf.score(X_test, y_test)"
   ]
  },
  {
   "cell_type": "code",
   "execution_count": 25,
   "metadata": {},
   "outputs": [
    {
     "data": {
      "text/plain": [
       "0.9614285714285714"
      ]
     },
     "execution_count": 25,
     "metadata": {},
     "output_type": "execute_result"
    }
   ],
   "source": [
    "my_clf.score(X_test, y_test)"
   ]
  },
  {
   "cell_type": "markdown",
   "metadata": {},
   "source": [
    "Задание 4"
   ]
  },
  {
   "cell_type": "code",
   "execution_count": 26,
   "metadata": {},
   "outputs": [],
   "source": [
    "clf = KNeighborsClassifier(n_neighbors=2, algorithm='kd_tree')\n",
    "my_clf = MyKNeighborsClassifier(n_neighbors=2, algorithm='kd_tree')"
   ]
  },
  {
   "cell_type": "code",
   "execution_count": 27,
   "metadata": {},
   "outputs": [],
   "source": [
    "X_train, X_test, y_train, y_test = train_test_split(mnist.data, mnist.target, test_size=0.01, stratify=mnist.target)"
   ]
  },
  {
   "cell_type": "code",
   "execution_count": 28,
   "metadata": {},
   "outputs": [
    {
     "name": "stdout",
     "output_type": "stream",
     "text": [
      "CPU times: user 2min 20s, sys: 774 ms, total: 2min 21s\n",
      "Wall time: 2min 21s\n"
     ]
    },
    {
     "data": {
      "text/plain": [
       "KNeighborsClassifier(algorithm='kd_tree', leaf_size=30, metric='minkowski',\n",
       "           metric_params=None, n_jobs=1, n_neighbors=2, p=2,\n",
       "           weights='uniform')"
      ]
     },
     "execution_count": 28,
     "metadata": {},
     "output_type": "execute_result"
    }
   ],
   "source": [
    "%time clf.fit(X_train, y_train)"
   ]
  },
  {
   "cell_type": "code",
   "execution_count": 29,
   "metadata": {},
   "outputs": [
    {
     "name": "stdout",
     "output_type": "stream",
     "text": [
      "CPU times: user 2min 19s, sys: 674 ms, total: 2min 19s\n",
      "Wall time: 2min 19s\n"
     ]
    }
   ],
   "source": [
    "%time my_clf.fit(X_train, y_train)"
   ]
  },
  {
   "cell_type": "code",
   "execution_count": 30,
   "metadata": {},
   "outputs": [
    {
     "name": "stdout",
     "output_type": "stream",
     "text": [
      "CPU times: user 2min 23s, sys: 32.3 ms, total: 2min 23s\n",
      "Wall time: 2min 24s\n"
     ]
    },
    {
     "data": {
      "text/plain": [
       "array([5., 3., 5., 4., 0., 2., 0., 5., 2., 3., 9., 2., 1., 9., 1., 1., 3.,\n",
       "       9., 7., 8., 4., 8., 4., 6., 1., 8., 6., 0., 0., 1., 1., 6., 8., 8.,\n",
       "       2., 9., 0., 9., 7., 4., 8., 8., 2., 8., 6., 9., 2., 9., 8., 4., 7.,\n",
       "       6., 0., 3., 6., 6., 2., 3., 3., 4., 0., 3., 7., 0., 6., 7., 9., 0.,\n",
       "       5., 7., 6., 0., 5., 6., 2., 5., 1., 3., 1., 3., 4., 3., 2., 1., 4.,\n",
       "       1., 4., 6., 6., 1., 1., 5., 4., 0., 2., 8., 2., 0., 5., 0., 7., 0.,\n",
       "       6., 1., 8., 3., 5., 6., 7., 8., 0., 4., 3., 6., 4., 7., 7., 5., 9.,\n",
       "       2., 5., 2., 3., 3., 3., 7., 1., 6., 8., 5., 3., 8., 9., 9., 9., 4.,\n",
       "       3., 3., 0., 3., 5., 0., 6., 4., 6., 2., 0., 3., 1., 0., 8., 1., 0.,\n",
       "       4., 9., 0., 7., 6., 1., 6., 6., 3., 1., 2., 1., 3., 6., 7., 2., 6.,\n",
       "       7., 6., 2., 5., 0., 8., 0., 9., 1., 0., 8., 3., 2., 3., 8., 1., 5.,\n",
       "       2., 5., 9., 0., 9., 0., 6., 6., 2., 8., 2., 0., 4., 3., 6., 2., 7.,\n",
       "       6., 5., 1., 9., 1., 1., 1., 7., 4., 4., 4., 8., 8., 7., 7., 9., 1.,\n",
       "       7., 3., 4., 5., 8., 5., 1., 5., 7., 1., 7., 1., 4., 1., 1., 6., 0.,\n",
       "       2., 6., 7., 7., 7., 2., 1., 2., 5., 2., 1., 7., 3., 3., 2., 5., 9.,\n",
       "       9., 9., 0., 3., 3., 9., 7., 5., 7., 3., 4., 0., 7., 3., 4., 0., 0.,\n",
       "       7., 2., 6., 6., 7., 0., 2., 5., 5., 9., 8., 6., 3., 0., 3., 9., 5.,\n",
       "       9., 9., 7., 2., 4., 2., 1., 1., 8., 4., 4., 5., 2., 4., 8., 5., 1.,\n",
       "       5., 1., 3., 2., 0., 1., 0., 0., 9., 3., 7., 6., 1., 3., 7., 1., 1.,\n",
       "       9., 5., 1., 9., 7., 0., 0., 7., 8., 6., 8., 8., 1., 4., 5., 4., 3.,\n",
       "       4., 0., 8., 1., 1., 4., 4., 1., 3., 7., 2., 9., 6., 9., 0., 1., 1.,\n",
       "       2., 2., 7., 8., 3., 0., 7., 1., 6., 2., 7., 4., 7., 6., 0., 8., 1.,\n",
       "       5., 3., 0., 1., 8., 1., 4., 9., 7., 5., 3., 9., 4., 6., 3., 7., 6.,\n",
       "       7., 7., 4., 0., 3., 6., 3., 9., 5., 4., 7., 8., 9., 6., 6., 7., 2.,\n",
       "       4., 0., 8., 2., 7., 8., 0., 4., 2., 5., 4., 4., 2., 8., 2., 2., 3.,\n",
       "       1., 6., 3., 9., 7., 0., 6., 2., 2., 9., 8., 7., 3., 4., 9., 1., 6.,\n",
       "       0., 0., 0., 6., 6., 2., 6., 7., 7., 2., 0., 5., 2., 9., 6., 3., 9.,\n",
       "       6., 8., 8., 9., 7., 3., 4., 9., 5., 7., 5., 7., 2., 4., 7., 2., 9.,\n",
       "       3., 9., 7., 1., 4., 1., 8., 5., 2., 1., 4., 0., 9., 8., 1., 2., 2.,\n",
       "       9., 2., 1., 5., 8., 0., 8., 2., 1., 6., 1., 3., 8., 9., 0., 9., 4.,\n",
       "       6., 0., 3., 7., 0., 7., 6., 3., 2., 9., 8., 9., 1., 4., 7., 3., 6.,\n",
       "       5., 4., 7., 4., 8., 9., 4., 8., 6., 3., 0., 2., 4., 5., 0., 2., 6.,\n",
       "       8., 8., 5., 2., 5., 4., 8., 8., 8., 8., 4., 4., 4., 7., 1., 9., 7.,\n",
       "       6., 2., 3., 1., 0., 7., 9., 5., 1., 3., 3., 4., 9., 8., 8., 3., 3.,\n",
       "       1., 0., 4., 9., 2., 4., 1., 3., 5., 7., 3., 3., 1., 5., 0., 5., 7.,\n",
       "       6., 0., 4., 5., 6., 1., 2., 6., 7., 4., 5., 4., 8., 3., 3., 5., 3.,\n",
       "       1., 3., 6., 1., 1., 1., 4., 7., 7., 3., 6., 4., 7., 9., 5., 5., 3.,\n",
       "       9., 5., 9., 7., 6., 6., 1., 1., 7., 6., 8., 7., 2., 1., 6., 2., 2.,\n",
       "       7., 0., 5., 4., 9., 5., 7., 6., 0., 3., 1., 7., 0., 3., 1., 1., 2.,\n",
       "       4., 9., 6., 9., 1., 5., 9., 0., 0., 5., 8., 5., 1., 7., 1., 2., 4.,\n",
       "       1., 1., 9., 3., 3., 4., 2., 7., 5., 2., 5., 0., 9., 2., 9., 1., 0.,\n",
       "       6., 9., 6.])"
      ]
     },
     "execution_count": 30,
     "metadata": {},
     "output_type": "execute_result"
    }
   ],
   "source": [
    "%time clf.predict(X_test)"
   ]
  },
  {
   "cell_type": "code",
   "execution_count": 31,
   "metadata": {},
   "outputs": [
    {
     "name": "stdout",
     "output_type": "stream",
     "text": [
      "CPU times: user 1min 53s, sys: 12.7 ms, total: 1min 53s\n",
      "Wall time: 1min 53s\n"
     ]
    },
    {
     "data": {
      "text/plain": [
       "array([5, 3, 5, 4, 0, 2, 0, 5, 2, 3, 9, 2, 1, 9, 1, 1, 3, 9, 7, 8, 4, 8,\n",
       "       4, 6, 1, 8, 6, 0, 0, 1, 1, 6, 8, 8, 2, 9, 0, 9, 7, 4, 8, 8, 2, 8,\n",
       "       6, 9, 2, 9, 8, 4, 7, 6, 0, 3, 6, 6, 2, 3, 3, 4, 0, 3, 7, 0, 6, 7,\n",
       "       9, 0, 5, 7, 6, 0, 5, 6, 2, 5, 1, 3, 1, 3, 4, 3, 2, 1, 4, 1, 4, 6,\n",
       "       6, 1, 1, 5, 4, 0, 2, 8, 2, 0, 5, 0, 7, 0, 6, 1, 8, 3, 5, 6, 7, 8,\n",
       "       0, 4, 3, 6, 4, 7, 7, 5, 9, 2, 5, 2, 3, 3, 3, 7, 1, 6, 8, 5, 3, 8,\n",
       "       9, 9, 9, 4, 3, 3, 0, 3, 5, 0, 6, 4, 6, 2, 0, 3, 1, 0, 8, 1, 0, 4,\n",
       "       9, 0, 7, 6, 1, 6, 6, 3, 1, 2, 1, 3, 6, 7, 2, 6, 7, 6, 2, 5, 0, 8,\n",
       "       0, 9, 1, 0, 8, 3, 2, 3, 8, 1, 5, 2, 5, 9, 0, 9, 0, 6, 6, 2, 8, 2,\n",
       "       0, 4, 3, 6, 2, 7, 6, 5, 1, 9, 1, 1, 1, 7, 4, 4, 4, 8, 8, 7, 7, 9,\n",
       "       1, 7, 3, 4, 5, 8, 5, 1, 5, 7, 1, 7, 1, 4, 1, 1, 6, 0, 2, 6, 7, 7,\n",
       "       7, 2, 1, 2, 5, 2, 1, 7, 3, 3, 2, 5, 9, 9, 9, 0, 3, 3, 9, 7, 5, 7,\n",
       "       3, 4, 0, 7, 3, 4, 0, 0, 7, 2, 6, 6, 7, 0, 2, 5, 5, 9, 8, 6, 3, 0,\n",
       "       3, 9, 5, 9, 9, 7, 2, 4, 2, 1, 1, 8, 4, 4, 5, 2, 4, 8, 5, 1, 5, 1,\n",
       "       3, 2, 0, 1, 0, 0, 9, 3, 7, 6, 1, 3, 7, 1, 1, 9, 5, 1, 9, 7, 0, 0,\n",
       "       7, 8, 6, 8, 8, 1, 4, 5, 4, 3, 4, 0, 8, 1, 1, 4, 4, 1, 3, 7, 2, 9,\n",
       "       6, 9, 0, 1, 1, 2, 2, 7, 8, 3, 0, 7, 1, 6, 2, 7, 4, 7, 6, 0, 8, 1,\n",
       "       5, 3, 0, 1, 8, 1, 4, 9, 7, 5, 3, 9, 4, 6, 3, 7, 6, 7, 7, 4, 0, 3,\n",
       "       6, 3, 9, 5, 4, 7, 8, 9, 6, 6, 7, 2, 4, 0, 8, 2, 7, 8, 0, 4, 2, 5,\n",
       "       4, 4, 2, 8, 2, 2, 3, 1, 6, 3, 9, 7, 0, 6, 2, 2, 9, 8, 7, 3, 4, 9,\n",
       "       1, 6, 0, 0, 0, 6, 6, 2, 6, 7, 7, 2, 0, 5, 2, 9, 6, 3, 9, 6, 8, 8,\n",
       "       9, 7, 3, 4, 9, 5, 7, 5, 7, 2, 4, 7, 2, 9, 3, 9, 7, 1, 4, 1, 8, 5,\n",
       "       2, 1, 4, 0, 9, 8, 1, 2, 2, 9, 2, 1, 5, 8, 0, 8, 2, 1, 6, 1, 3, 8,\n",
       "       9, 0, 9, 4, 6, 0, 3, 7, 0, 7, 6, 3, 2, 9, 8, 9, 1, 4, 7, 3, 6, 5,\n",
       "       4, 7, 4, 8, 9, 4, 8, 6, 3, 0, 2, 4, 5, 0, 2, 6, 8, 8, 5, 2, 5, 4,\n",
       "       8, 8, 8, 8, 4, 4, 4, 7, 1, 9, 7, 6, 2, 3, 1, 0, 7, 9, 5, 1, 3, 3,\n",
       "       4, 9, 8, 8, 3, 3, 1, 0, 4, 9, 2, 4, 1, 3, 5, 7, 3, 3, 1, 5, 0, 5,\n",
       "       7, 6, 0, 4, 5, 6, 1, 2, 6, 7, 4, 5, 4, 8, 3, 3, 5, 3, 1, 3, 6, 1,\n",
       "       1, 1, 4, 7, 7, 3, 6, 4, 7, 9, 5, 5, 3, 9, 5, 9, 7, 6, 6, 1, 1, 7,\n",
       "       6, 8, 7, 2, 1, 6, 2, 2, 7, 0, 5, 4, 9, 5, 7, 6, 0, 3, 1, 7, 0, 3,\n",
       "       1, 1, 2, 4, 9, 6, 9, 1, 5, 9, 0, 0, 5, 8, 5, 1, 7, 1, 2, 4, 1, 1,\n",
       "       9, 3, 3, 4, 2, 7, 5, 2, 5, 0, 9, 2, 9, 1, 0, 6, 9, 6])"
      ]
     },
     "execution_count": 31,
     "metadata": {},
     "output_type": "execute_result"
    }
   ],
   "source": [
    "%time my_clf.predict(X_test)"
   ]
  },
  {
   "cell_type": "code",
   "execution_count": 32,
   "metadata": {},
   "outputs": [
    {
     "name": "stdout",
     "output_type": "stream",
     "text": [
      "CPU times: user 2min 23s, sys: 13.2 ms, total: 2min 23s\n",
      "Wall time: 2min 24s\n"
     ]
    },
    {
     "data": {
      "text/plain": [
       "array([[0., 0., 0., ..., 0., 0., 0.],\n",
       "       [0., 0., 0., ..., 0., 0., 0.],\n",
       "       [0., 0., 0., ..., 0., 0., 0.],\n",
       "       ...,\n",
       "       [0., 0., 0., ..., 0., 0., 0.],\n",
       "       [0., 0., 0., ..., 0., 0., 1.],\n",
       "       [0., 0., 0., ..., 0., 0., 0.]])"
      ]
     },
     "execution_count": 32,
     "metadata": {},
     "output_type": "execute_result"
    }
   ],
   "source": [
    "%time clf.predict_proba(X_test)"
   ]
  },
  {
   "cell_type": "code",
   "execution_count": 33,
   "metadata": {},
   "outputs": [
    {
     "name": "stdout",
     "output_type": "stream",
     "text": [
      "CPU times: user 1min 52s, sys: 97.7 ms, total: 1min 52s\n",
      "Wall time: 1min 53s\n"
     ]
    },
    {
     "data": {
      "text/plain": [
       "array([[0., 0., 0., ..., 0., 0., 0.],\n",
       "       [0., 0., 0., ..., 0., 0., 0.],\n",
       "       [0., 0., 0., ..., 0., 0., 0.],\n",
       "       ...,\n",
       "       [0., 0., 0., ..., 0., 0., 0.],\n",
       "       [0., 0., 0., ..., 0., 0., 1.],\n",
       "       [0., 0., 0., ..., 0., 0., 0.]])"
      ]
     },
     "execution_count": 33,
     "metadata": {},
     "output_type": "execute_result"
    }
   ],
   "source": [
    "%time my_clf.predict_proba(X_test)"
   ]
  },
  {
   "cell_type": "code",
   "execution_count": 34,
   "metadata": {},
   "outputs": [
    {
     "data": {
      "text/plain": [
       "0.9728571428571429"
      ]
     },
     "execution_count": 34,
     "metadata": {},
     "output_type": "execute_result"
    }
   ],
   "source": [
    "clf.score(X_test, y_test)"
   ]
  },
  {
   "cell_type": "code",
   "execution_count": 35,
   "metadata": {},
   "outputs": [
    {
     "data": {
      "text/plain": [
       "0.9728571428571429"
      ]
     },
     "execution_count": 35,
     "metadata": {},
     "output_type": "execute_result"
    }
   ],
   "source": [
    "my_clf.score(X_test, y_test)"
   ]
  },
  {
   "cell_type": "markdown",
   "metadata": {},
   "source": [
    "Задание 5"
   ]
  },
  {
   "cell_type": "code",
   "execution_count": 36,
   "metadata": {},
   "outputs": [],
   "source": [
    "# seaborn - надстройка над matplotlib для визуализации статистических данных\n",
    "# matplotlib - основная библиотека для построения графиков\n",
    "# train_test_split - библиотека для разбиения данных для обучения\n",
    "# Pipelin%load_ext e (from sklearn.pipeline import Pipeline) - создание пайплайнов - конвееров\n",
    "# StandardScaler (from sklearn.preprocessing import StandardScaler) - нормализация данных\n",
    "# ClassifierMixin - базовый класс класификаторов sclearn\n",
    "# NeighborsBase - базовый класс для алгоритмов ближайших соседей \n",
    "# KNeighborsMixin - класс реализующий поиск ближайших соседей\n",
    "# SupervisedIntegerMixin - базовый класс для создания алгоритмов обучения с учителем"
   ]
  }
 ],
 "metadata": {
  "kernelspec": {
   "display_name": "Python 3",
   "language": "python",
   "name": "python3"
  },
  "language_info": {
   "codemirror_mode": {
    "name": "ipython",
    "version": 3
   },
   "file_extension": ".py",
   "mimetype": "text/x-python",
   "name": "python",
   "nbconvert_exporter": "python",
   "pygments_lexer": "ipython3",
   "version": "3.6.5"
  }
 },
 "nbformat": 4,
 "nbformat_minor": 2
}
