{
 "cells": [
  {
   "cell_type": "markdown",
   "metadata": {},
   "source": [
    "# Алгоритмы интеллектуальной обработки больших объемов данных\n",
    "## Домашнее задание №4 - Метод k-средних, предобработка признаков\n"
   ]
  },
  {
   "cell_type": "markdown",
   "metadata": {},
   "source": [
    "###### <hr\\>\n",
    "**Общая информация**\n",
    "\n",
    "**Срок сдачи:** 28 ноября 2018, 06:00 <br\\>\n",
    "**Штраф за опоздание:** -2 балла после 06:00 28 ноября, -4 балла после 06:00 5 декабря, -6 баллов после 06:00 12 декабря, -8 баллов после 19 декабря\n",
    "\n",
    "При отправлении ДЗ указывайте фамилию в названии файла\n",
    "Присылать ДЗ необходимо в виде ссылки на свой github репозиторий в slack @alkhamush\n",
    "\n",
    "Необходимо в slack создать таск в приватный чат:\n",
    "/todo Фамилия Имя ссылка на гитхаб @alkhamush\n",
    "Пример:\n",
    "/todo Ксения Стройкова https://github.com/stroykova/spheremailru/stroykova_hw1.ipynb @alkhamush\n",
    "Дополнительно нужно просто скинуть ссылку в slack в личный чат\n",
    "\n",
    "Используйте данный Ipython Notebook при оформлении домашнего задания."
   ]
  },
  {
   "cell_type": "markdown",
   "metadata": {},
   "source": [
    "# Имплементация K-means\n",
    "\n",
    "Пользуясь наработками выше, имплементируйте метод k-means.  \n",
    "При инициализации необходимо задавать количество кластеров, функцию расстояния между кластерами (для оригинального k-means - евклидово расстояние) и начальное состояние генератора случайных чисел.\n",
    "\n",
    "После обучения, среди атрибутов класса `Kmeans` должны появится\n",
    "* Метки кластеров для объектов\n",
    "* Координаты центройдов кластеров\n",
    "\n",
    "k-means - это алгоритм **кластеризации**, а не классификации, а посему метод `.predict()` в нем фактически не нужен, но он может возвращать метки ближайшего кластера для объектов."
   ]
  },
  {
   "cell_type": "markdown",
   "metadata": {},
   "source": [
    "###### Задание 1 (2 баллов)\n",
    "Имплементируйте метод k-means. Задание считается выполненным, если Ваша реализация работает быстрее реализации из sklearn.\n",
    "\n",
    "Теория для выполнения задания 2 и 3 остаётся на самостоятельное изучение. Теории немного и она совсем простая.\n",
    "\n",
    "###### Задание 2 (2 балла)\n",
    "Имплементируйте класс MiniBatchKMeans, который является классом наследником Kmeans.\n",
    "\n",
    "###### Задание 3 (2 балла)\n",
    "Превратите k-means в k-means++. Для этого нужно реализовать метод в классе Kmeans, который будет инициализировать более \"хорошие\" значения центроидов. Чтобы использовался метод k-means++, в параметр init необходимо передать строковое значение 'k-means' (по умолчанию 'random').\n",
    "\n",
    "###### Задание 4 (2 балла)\n",
    "В пункте \"Проверка корректности метода\" нужно нарисовать графики, которые показывают зависимость времени выполнения алгоритма от количества сэмплов. Графики должны быть  нарисованы для различных комбинаций реализаций алгоритма (k-means, k-means++, k-means с MiniBatchKMeans, k-means++ с MiniBatchKMeans). График достаточно построить на 5-10 точках.\n",
    "\n",
    "###### Задание 5 (2 балла)\n",
    "В пункте \"Применение K-means на реальных данных\" нужно сравнить различные реализации k-means (k-means, k-means++, k-means с MiniBatchKMeans, k-means++ с MiniBatchKMeans). После чего написать вывод, в котором должно быть объяснение того, почему один алгоритм оказался лучше остальных или почему не было выявлено лучшего алгоритма.\n",
    "\n",
    "**Штрафные баллы:**\n",
    "\n",
    "1. Невыполнение PEP8 -1 балл\n",
    "2. Отсутствие фамилии в имени скрипта (скрипт должен называться по аналогии со stroykova_hw4.ipynb) -1 балл\n",
    "3. Все строчки должны быть выполнены. Нужно, чтобы output команды можно было увидеть уже в git'е. В противном случае -1 балл\n",
    "4. При оформлении ДЗ нужно пользоваться данным файлом в качестве шаблона. Не нужно удалять и видоизменять написанный код и текст. В противном случае -1 балл\n",
    "<hr\\>"
   ]
  },
  {
   "cell_type": "code",
   "execution_count": 1,
   "metadata": {},
   "outputs": [],
   "source": [
    "import pandas as pd\n",
    "import numpy as np\n",
    "import matplotlib.pyplot as plt\n",
    "import scipy as sp\n",
    "import sklearn as sk\n",
    "from sklearn import metrics\n",
    "from sklearn.preprocessing import StandardScaler\n",
    "\n",
    "%matplotlib inline\n",
    "\n",
    "plt.style.use('ggplot')\n",
    "plt.rcParams['figure.figsize'] = (12,5)\n",
    "\n",
    "%load_ext pycodestyle_magic"
   ]
  },
  {
   "cell_type": "code",
   "execution_count": 54,
   "metadata": {},
   "outputs": [],
   "source": [
    "#%%pycodestyle\n",
    "\n",
    "\n",
    "class MyKmeans:\n",
    "\n",
    "    def __init__(self, k=2, metric='euclidean',\n",
    "                 max_iter=1000, random_state=None, init='random'):\n",
    "        \"\"\"\n",
    "        Инициализация метода\n",
    "        :k - количество кластеров\n",
    "        :metric - функция расстояния между объектами\n",
    "        :max_iter - максиальное количество итераций\n",
    "        :random_state - seed для инициализации генератора случайных чисел\n",
    "        \"\"\"\n",
    "        self.k = k\n",
    "        self.random_state = random_state\n",
    "        np.random.seed(random_state)\n",
    "        if (metric == 'euclidean'):\n",
    "            self.metric = self._eucl\n",
    "        self.max_iter = max_iter\n",
    "        self.init = init\n",
    "\n",
    "    def _eucl(self, x, y):\n",
    "        return np.sum(np.square(np.subtract(x, y)))\n",
    "\n",
    "    def fit(self, X, y=None):\n",
    "        \"\"\"\n",
    "        Процедура обучения k-means\n",
    "        \"\"\"\n",
    "\n",
    "        # Инициализация генератора случайных чисел\n",
    "        np.random.seed(self.random_state)\n",
    "\n",
    "        # Массив с метками кластеров для каждого объекта из X\n",
    "        self.labels = [0]*X.shape[0]\n",
    "\n",
    "        # Массив с центройдами кластеров\n",
    "        self.centroids = np.empty([self.k, X.shape[1]])\n",
    "\n",
    "        # Your Code Here\n",
    "        eps = 1e-4\n",
    "        if (self.init == 'k-means'):\n",
    "            self.centroids[0, :] = X[np.random.choice(X.shape[0])]\n",
    "            for i in range(1, self.k):\n",
    "                dist = sk.metrics.pairwise_distances_argmin_min(\n",
    "                    X, self.centroids[:i])[1]\n",
    "                dist = np.divide(dist, np.sum(dist))\n",
    "                self.centroids[i] = X[np.random.choice(X.shape[0],\n",
    "                                                       p=dist, replace=False)]\n",
    "        if (self.init == 'random'):\n",
    "            self.centroids = X[np.random.choice(X.shape[0],\n",
    "                                                self.k, replace=False)]\n",
    "        for not_use in range(self.max_iter):\n",
    "            self.labels = \\\n",
    "                sk.metrics.pairwise_distances_argmin(X,\n",
    "                                                     self.centroids)\n",
    "            for i in range(self.k):\n",
    "                buf = self.centroids.copy()\n",
    "                time_clust = X[i == self.labels]\n",
    "                if time_clust.shape[0] != 0:\n",
    "                    self.centroids[i] = np.mean(time_clust, axis=0)\n",
    "            flag = True\n",
    "            for i, x in enumerate(buf):\n",
    "                if (self.metric(x, self.centroids[i]) > eps):\n",
    "                    flag = False\n",
    "                    break\n",
    "            if flag:\n",
    "                break\n",
    "        return self\n",
    "\n",
    "    def predict(self, X, y=None):\n",
    "        \"\"\"\n",
    "        Процедура предсказания кластера\n",
    "\n",
    "        Возвращает метку ближайшего кластера для каждого объекта\n",
    "        \"\"\"\n",
    "        return sk.metrics.pairwise_distances_argmin(X, self.centroids)\n",
    "\n",
    "\n",
    "class MiniBatchKMeans(MyKmeans):\n",
    "\n",
    "    def __init__(self, k=2, metric='euclidean', max_iter=1000,\n",
    "                 random_state=None, init='random', batch_size=80):\n",
    "        \"\"\"\n",
    "        Инициализация метода\n",
    "        :k - количество кластеров\n",
    "        :metric - функция расстояния между объектами\n",
    "        :max_iter - максиальное количество итераций\n",
    "        :random_state - seed для инициализации генератора случайных чисел\n",
    "        \"\"\"\n",
    "\n",
    "        self.k = k\n",
    "        self.random_state = random_state\n",
    "        self.batch_size = batch_size\n",
    "        if (metric == 'euclidean'):\n",
    "            self.metric = self._eucl\n",
    "        self.max_iter = max_iter\n",
    "        self.init = init\n",
    "\n",
    "    def fit(self, X, y=None):\n",
    "        \"\"\"\n",
    "        Процедура обучения k-means\n",
    "        \"\"\"\n",
    "\n",
    "        # Инициализация генератора случайных чисел\n",
    "        np.random.seed(self.random_state)\n",
    "\n",
    "        # Массив с метками кластеров для каждого объекта из X\n",
    "        self.labels = [0]*X.shape[0]\n",
    "\n",
    "        # Массив с центройдами кластеров\n",
    "        self.centroids = np.empty([self.k, X.shape[1]])\n",
    "\n",
    "        # Your Code Here\n",
    "        eps = 1e-2\n",
    "        if (self.init == 'k-means'):\n",
    "            self.centroids[0, :] = X[np.random.choice(X.shape[0])]\n",
    "            for i in range(1, self.k):\n",
    "                dist = sk.metrics.pairwise_distances_argmin_min(\n",
    "                            X, self.centroids[:i])[1]\n",
    "                dist = np.divide(dist, np.sum(dist))\n",
    "                self.centroids[i] = X[np.random.choice(X.shape[0],\n",
    "                                                       p=dist, replace=False)]\n",
    "        if (self.init == 'random'):\n",
    "            self.centroids = X[np.random.choice(X.shape[0],\n",
    "                                                self.k, replace=False)]\n",
    "        if(self.batch_size > X.shape[0]):\n",
    "            batch_size = X.shape[0]\n",
    "        else:\n",
    "            batch_size = self.batch_size\n",
    "        eps = 1e-4\n",
    "\n",
    "        count = [0]*self.k\n",
    "        for iters in range(self.max_iter):\n",
    "\n",
    "            buf = self.centroids\n",
    "            index = np.random.choice(X.shape[0],\n",
    "                                     size=batch_size, replace=False)\n",
    "            batch = X[index]\n",
    "            d = sk.metrics.pairwise_distances_argmin(\n",
    "                batch, self.centroids)\n",
    "            for i, x in enumerate(batch):\n",
    "                num = d[i]\n",
    "                count[num] += 1\n",
    "                nu = 1 / count[num]\n",
    "                self.centroids[num] = np.add(\n",
    "                    np.multiply((1-nu), self.centroids[num]),\n",
    "                    np.multiply(nu, x))\n",
    "            flag = True\n",
    "            for i, x in enumerate(buf):\n",
    "                if (self.metric(x, self.centroids[i]) > eps):\n",
    "                    flag = False\n",
    "                    break\n",
    "            if flag:\n",
    "                break\n",
    "        return self\n"
   ]
  },
  {
   "cell_type": "markdown",
   "metadata": {},
   "source": [
    "### Проверка корректности метода\n",
    "\n",
    "Перед тем как применять алгоритм на реальных данных, нужно испытать его на простых \"игрушечных\" данных.\n",
    "\n",
    "Если алгоритм реализован правильно, то метод должен идеально разбивать на 3 кластера данные ниже. Проверьте это.\n",
    "\n",
    "ВНИМАНИЕ! Проверка должна быть осуществлена на всех реализациях, иначе реализация не будет зачтена!"
   ]
  },
  {
   "cell_type": "code",
   "execution_count": 3,
   "metadata": {},
   "outputs": [],
   "source": [
    "from sklearn.datasets import make_blobs"
   ]
  },
  {
   "cell_type": "code",
   "execution_count": 24,
   "metadata": {},
   "outputs": [],
   "source": [
    "X, y = make_blobs(n_samples=100, n_features=2, centers=3, cluster_std=1, \n",
    "           center_box=(-10.0, 10.0), shuffle=False, random_state=1234)"
   ]
  },
  {
   "cell_type": "code",
   "execution_count": 5,
   "metadata": {},
   "outputs": [
    {
     "data": {
      "text/plain": [
       "<matplotlib.collections.PathCollection at 0x7fb88c0466a0>"
      ]
     },
     "execution_count": 5,
     "metadata": {},
     "output_type": "execute_result"
    },
    {
     "data": {
      "image/png": "[encoded data removed]",
      "text/plain": [
       "<Figure size 432x288 with 1 Axes>"
      ]
     },
     "metadata": {
      "needs_background": "light"
     },
     "output_type": "display_data"
    }
   ],
   "source": [
    "plt.scatter(X[:,0], X[:, 1], c=y)"
   ]
  },
  {
   "cell_type": "markdown",
   "metadata": {},
   "source": [
    "Проверьте Вашу имплементацию на простых данных (без этого пункта ДЗ не считается выполненным).   \n",
    "КОММЕНТАРИИ НЕ СТИРАТЬ!"
   ]
  },
  {
   "cell_type": "code",
   "execution_count": 26,
   "metadata": {},
   "outputs": [
    {
     "data": {
      "text/plain": [
       "<matplotlib.collections.PathCollection at 0x7fb889585be0>"
      ]
     },
     "execution_count": 26,
     "metadata": {},
     "output_type": "execute_result"
    },
    {
     "data": {
      "image/png": "[encoded data removed]",
      "text/plain": [
       "<Figure size 432x288 with 1 Axes>"
      ]
     },
     "metadata": {
      "needs_background": "light"
     },
     "output_type": "display_data"
    }
   ],
   "source": [
    "## Работоспособность MyKmeans\n",
    "km = MyKmeans(k=3)\n",
    "km.fit(X)\n",
    "y_pred = km.predict(X)\n",
    "plt.scatter(X[:, 0], X[:, 1], c=y_pred)\n",
    "plt.scatter(km.centroids[:, 0], km.centroids[:, 1])"
   ]
  },
  {
   "cell_type": "code",
   "execution_count": 25,
   "metadata": {},
   "outputs": [
    {
     "data": {
      "text/plain": [
       "<matplotlib.collections.PathCollection at 0x7fb889ed1748>"
      ]
     },
     "execution_count": 25,
     "metadata": {},
     "output_type": "execute_result"
    },
    {
     "data": {
      "image/png": "[encoded data removed]",
      "text/plain": [
       "<Figure size 432x288 with 1 Axes>"
      ]
     },
     "metadata": {
      "needs_background": "light"
     },
     "output_type": "display_data"
    }
   ],
   "source": [
    "## Работоспособность MyKmeans++\n",
    "km = MyKmeans(k=3, init='k-means')\n",
    "km.fit(X)\n",
    "y_pred = km.predict(X)\n",
    "plt.scatter(X[:,0], X[:, 1], c=y_pred)\n",
    "plt.scatter(km.centroids[:, 0], km.centroids[:, 1])"
   ]
  },
  {
   "cell_type": "code",
   "execution_count": 33,
   "metadata": {},
   "outputs": [
    {
     "data": {
      "text/plain": [
       "<matplotlib.collections.PathCollection at 0x7fb8892917b8>"
      ]
     },
     "execution_count": 33,
     "metadata": {},
     "output_type": "execute_result"
    },
    {
     "data": {
      "image/png": "[encoded data removed]",
      "text/plain": [
       "<Figure size 432x288 with 1 Axes>"
      ]
     },
     "metadata": {
      "needs_background": "light"
     },
     "output_type": "display_data"
    }
   ],
   "source": [
    "## Работоспособность MyKmeans с MiniBatchMyKmeans\n",
    "km = MiniBatchKMeans(k=3)\n",
    "km.fit(X)\n",
    "y_pred = km.predict(X)\n",
    "plt.scatter(X[:, 0], X[:, 1], c=y_pred)\n",
    "plt.scatter(km.centroids[:, 0], km.centroids[:, 1])"
   ]
  },
  {
   "cell_type": "code",
   "execution_count": 34,
   "metadata": {},
   "outputs": [
    {
     "data": {
      "text/plain": [
       "<matplotlib.collections.PathCollection at 0x7fb889202160>"
      ]
     },
     "execution_count": 34,
     "metadata": {},
     "output_type": "execute_result"
    },
    {
     "data": {
      "image/png": "[encoded data removed]",
      "text/plain": [
       "<Figure size 432x288 with 1 Axes>"
      ]
     },
     "metadata": {
      "needs_background": "light"
     },
     "output_type": "display_data"
    }
   ],
   "source": [
    "## Работоспособность MyKmeans++ с MiniBatchMyKmeans\n",
    "km = MiniBatchKMeans(k=3, init='k-means')\n",
    "km.fit(X)\n",
    "y_pred = km.predict(X)\n",
    "plt.scatter(X[:, 0], X[:, 1], c=y_pred)\n",
    "plt.scatter(km.centroids[:, 0], km.centroids[:, 1])"
   ]
  },
  {
   "cell_type": "code",
   "execution_count": 35,
   "metadata": {},
   "outputs": [
    {
     "data": {
      "text/plain": [
       "Text(0,0.5,'time')"
      ]
     },
     "execution_count": 35,
     "metadata": {},
     "output_type": "execute_result"
    },
    {
     "data": {
      "image/png": "[encoded data removed]",
      "text/plain": [
       "<Figure size 432x288 with 1 Axes>"
      ]
     },
     "metadata": {
      "needs_background": "light"
     },
     "output_type": "display_data"
    }
   ],
   "source": [
    "## Время выполнения алгоритма Kmeans из sklearn\n",
    "import time\n",
    "from sklearn.cluster import KMeans\n",
    "sizes = [\n",
    "    500,\n",
    "    1000,\n",
    "    2000,\n",
    "    5000,\n",
    "    10000,\n",
    "    20000,\n",
    "    50000,\n",
    "    100000,\n",
    "    ]\n",
    "t1 = np.empty(len(sizes))\n",
    "for (i, s) in enumerate(sizes):\n",
    "    (X, y) = make_blobs(\n",
    "        n_samples=s,\n",
    "        n_features=2,\n",
    "        centers=3,\n",
    "        cluster_std=1,\n",
    "        center_box=(-10.0, 10.0),\n",
    "        shuffle=False,\n",
    "        random_state=123,\n",
    "        )\n",
    "    km = KMeans(n_clusters=3, init='random', max_iter=10000)\n",
    "    tau = time.time()\n",
    "    km.fit(X)\n",
    "    t1[i] = time.time() - tau\n",
    "plt.plot(sizes, t1)\n",
    "plt.xlabel('number')\n",
    "plt.ylabel('time')\n"
   ]
  },
  {
   "cell_type": "code",
   "execution_count": 36,
   "metadata": {},
   "outputs": [
    {
     "data": {
      "text/plain": [
       "Text(0,0.5,'time')"
      ]
     },
     "execution_count": 36,
     "metadata": {},
     "output_type": "execute_result"
    },
    {
     "data": {
      "image/png": "[encoded data removed]",
      "text/plain": [
       "<Figure size 432x288 with 1 Axes>"
      ]
     },
     "metadata": {
      "needs_background": "light"
     },
     "output_type": "display_data"
    }
   ],
   "source": [
    "## Время выполнения алгоритма MyKmeans\n",
    "t2 = np.empty(len(sizes))\n",
    "for (i, s) in enumerate(sizes):\n",
    "    (X, y) = make_blobs(\n",
    "        n_samples=s,\n",
    "        n_features=2,\n",
    "        centers=3,\n",
    "        cluster_std=1,\n",
    "        center_box=(-10.0, 10.0),\n",
    "        shuffle=False,\n",
    "        random_state=123,\n",
    "        )\n",
    "    km = MyKmeans(k=3, max_iter=5)\n",
    "    tau = time.time()\n",
    "    km.fit(X)\n",
    "    t2[i] = time.time() - tau\n",
    "plt.plot(sizes, t2)\n",
    "plt.xlabel('number')\n",
    "plt.ylabel('time')\n"
   ]
  },
  {
   "cell_type": "code",
   "execution_count": 37,
   "metadata": {},
   "outputs": [
    {
     "data": {
      "text/plain": [
       "Text(0,0.5,'time')"
      ]
     },
     "execution_count": 37,
     "metadata": {},
     "output_type": "execute_result"
    },
    {
     "data": {
      "image/png": "[encoded data removed]",
      "text/plain": [
       "<Figure size 432x288 with 1 Axes>"
      ]
     },
     "metadata": {
      "needs_background": "light"
     },
     "output_type": "display_data"
    }
   ],
   "source": [
    "## Время выполнения алгоритма MyKmeans++\n",
    "t3 = np.empty(len(sizes))\n",
    "for (i, s) in enumerate(sizes):\n",
    "    (X, y) = make_blobs(\n",
    "        n_samples=s,\n",
    "        n_features=2,\n",
    "        centers=3,\n",
    "        cluster_std=1,\n",
    "        center_box=(-10.0, 10.0),\n",
    "        shuffle=False,\n",
    "        random_state=123,\n",
    "        )\n",
    "    km = MyKmeans(k=3, max_iter=300, init='k-means')\n",
    "    tau = time.time()\n",
    "    km.fit(X)\n",
    "    t3[i] = time.time() - tau\n",
    "plt.plot(sizes, t3)\n",
    "plt.xlabel('number')\n",
    "plt.ylabel('time')\n"
   ]
  },
  {
   "cell_type": "code",
   "execution_count": 38,
   "metadata": {},
   "outputs": [
    {
     "data": {
      "text/plain": [
       "Text(0,0.5,'time')"
      ]
     },
     "execution_count": 38,
     "metadata": {},
     "output_type": "execute_result"
    },
    {
     "data": {
      "image/png": "[encoded data removed]",
      "text/plain": [
       "<Figure size 432x288 with 1 Axes>"
      ]
     },
     "metadata": {
      "needs_background": "light"
     },
     "output_type": "display_data"
    }
   ],
   "source": [
    "## Время выполнения алгоритма MyKmeans с MiniBatchMyKmeans\n",
    "t4 = np.empty(len(sizes))\n",
    "for (i, s) in enumerate(sizes):\n",
    "    (X, y) = make_blobs(\n",
    "        n_samples=s,\n",
    "        n_features=2,\n",
    "        centers=3,\n",
    "        cluster_std=1,\n",
    "        center_box=(-10.0, 10.0),\n",
    "        shuffle=False,\n",
    "        random_state=123,\n",
    "        )\n",
    "    km = MiniBatchKMeans(k=3, max_iter=300, batch_size=100)\n",
    "    tau = time.time()\n",
    "    km.fit(X)\n",
    "    t4[i] = time.time() - tau\n",
    "plt.plot(sizes, t4)\n",
    "plt.xlabel('number')\n",
    "plt.ylabel('time')\n"
   ]
  },
  {
   "cell_type": "code",
   "execution_count": 39,
   "metadata": {},
   "outputs": [
    {
     "data": {
      "text/plain": [
       "Text(0,0.5,'time')"
      ]
     },
     "execution_count": 39,
     "metadata": {},
     "output_type": "execute_result"
    },
    {
     "data": {
      "image/png": "[encoded data removed]",
      "text/plain": [
       "<Figure size 432x288 with 1 Axes>"
      ]
     },
     "metadata": {
      "needs_background": "light"
     },
     "output_type": "display_data"
    }
   ],
   "source": [
    "## Время выполнения алгоритма  MyKmeans++ с MiniBatchMyKmeans\n",
    "\n",
    "t5 = np.empty(len(sizes))\n",
    "for (i, s) in enumerate(sizes):\n",
    "    (X, y) = make_blobs(\n",
    "        n_samples=s,\n",
    "        n_features=2,\n",
    "        centers=3,\n",
    "        cluster_std=1,\n",
    "        center_box=(-10.0, 10.0),\n",
    "        shuffle=False,\n",
    "        random_state=123,\n",
    "        )\n",
    "    km = MiniBatchKMeans(k=3, max_iter=300, init='k-means',\n",
    "                         batch_size=100)\n",
    "    tau = time.time()\n",
    "    km.fit(X)\n",
    "    t5[i] = time.time() - tau\n",
    "plt.plot(sizes, t5)\n",
    "plt.xlabel('number')\n",
    "plt.ylabel('time')"
   ]
  },
  {
   "cell_type": "code",
   "execution_count": 40,
   "metadata": {},
   "outputs": [
    {
     "data": {
      "text/plain": [
       "Text(0,0.5,'time')"
      ]
     },
     "execution_count": 40,
     "metadata": {},
     "output_type": "execute_result"
    },
    {
     "data": {
      "image/png": "[encoded data removed]",
      "text/plain": [
       "<Figure size 432x288 with 1 Axes>"
      ]
     },
     "metadata": {
      "needs_background": "light"
     },
     "output_type": "display_data"
    }
   ],
   "source": [
    "plt.plot(sizes, t1, label='sklearn')\n",
    "plt.plot(sizes, t2, label='kmeans')\n",
    "plt.plot(sizes, t3, label='kmeans++')\n",
    "plt.plot(sizes, t4, label='mimbatch kmeans')\n",
    "plt.plot(sizes, t5, label='mimbatch kmeans++')\n",
    "plt.legend()\n",
    "plt.xlabel('number')\n",
    "plt.ylabel('time')"
   ]
  },
  {
   "cell_type": "markdown",
   "metadata": {},
   "source": [
    "# Применение K-means на реальных данных"
   ]
  },
  {
   "cell_type": "markdown",
   "metadata": {},
   "source": [
    "Загрузите [данные](https://github.com/brenden17/sklearnlab/blob/master/facebook/snsdata.csv) в которых содержится описание интересов профилей учеников старшей школы США.  (без этого пункта задание не считается выполненным).   \n",
    "ВНИМАНИЕ! Проверка должна быть осуществлена на всех реализациях, иначе реализация не будет зачтена!"
   ]
  },
  {
   "cell_type": "code",
   "execution_count": 43,
   "metadata": {},
   "outputs": [
    {
     "data": {
      "text/html": [
       "<div>\n",
       "<style scoped>\n",
       "    .dataframe tbody tr th:only-of-type {\n",
       "        vertical-align: middle;\n",
       "    }\n",
       "\n",
       "    .dataframe tbody tr th {\n",
       "        vertical-align: top;\n",
       "    }\n",
       "\n",
       "    .dataframe thead th {\n",
       "        text-align: right;\n",
       "    }\n",
       "</style>\n",
       "<table border=\"1\" class=\"dataframe\">\n",
       "  <thead>\n",
       "    <tr style=\"text-align: right;\">\n",
       "      <th></th>\n",
       "      <th>gradyear</th>\n",
       "      <th>gender</th>\n",
       "      <th>age</th>\n",
       "      <th>friends</th>\n",
       "      <th>basketball</th>\n",
       "      <th>football</th>\n",
       "      <th>soccer</th>\n",
       "      <th>softball</th>\n",
       "      <th>volleyball</th>\n",
       "      <th>swimming</th>\n",
       "      <th>...</th>\n",
       "      <th>blonde</th>\n",
       "      <th>mall</th>\n",
       "      <th>shopping</th>\n",
       "      <th>clothes</th>\n",
       "      <th>hollister</th>\n",
       "      <th>abercrombie</th>\n",
       "      <th>die</th>\n",
       "      <th>death</th>\n",
       "      <th>drunk</th>\n",
       "      <th>drugs</th>\n",
       "    </tr>\n",
       "  </thead>\n",
       "  <tbody>\n",
       "    <tr>\n",
       "      <th>0</th>\n",
       "      <td>2006</td>\n",
       "      <td>M</td>\n",
       "      <td>18.982</td>\n",
       "      <td>7</td>\n",
       "      <td>0</td>\n",
       "      <td>0</td>\n",
       "      <td>0</td>\n",
       "      <td>0</td>\n",
       "      <td>0</td>\n",
       "      <td>0</td>\n",
       "      <td>...</td>\n",
       "      <td>0</td>\n",
       "      <td>0</td>\n",
       "      <td>0</td>\n",
       "      <td>0</td>\n",
       "      <td>0</td>\n",
       "      <td>0</td>\n",
       "      <td>0</td>\n",
       "      <td>0</td>\n",
       "      <td>0</td>\n",
       "      <td>0</td>\n",
       "    </tr>\n",
       "    <tr>\n",
       "      <th>1</th>\n",
       "      <td>2006</td>\n",
       "      <td>F</td>\n",
       "      <td>18.801</td>\n",
       "      <td>0</td>\n",
       "      <td>0</td>\n",
       "      <td>1</td>\n",
       "      <td>0</td>\n",
       "      <td>0</td>\n",
       "      <td>0</td>\n",
       "      <td>0</td>\n",
       "      <td>...</td>\n",
       "      <td>0</td>\n",
       "      <td>1</td>\n",
       "      <td>0</td>\n",
       "      <td>0</td>\n",
       "      <td>0</td>\n",
       "      <td>0</td>\n",
       "      <td>0</td>\n",
       "      <td>0</td>\n",
       "      <td>0</td>\n",
       "      <td>0</td>\n",
       "    </tr>\n",
       "    <tr>\n",
       "      <th>2</th>\n",
       "      <td>2006</td>\n",
       "      <td>M</td>\n",
       "      <td>18.335</td>\n",
       "      <td>69</td>\n",
       "      <td>0</td>\n",
       "      <td>1</td>\n",
       "      <td>0</td>\n",
       "      <td>0</td>\n",
       "      <td>0</td>\n",
       "      <td>0</td>\n",
       "      <td>...</td>\n",
       "      <td>0</td>\n",
       "      <td>0</td>\n",
       "      <td>0</td>\n",
       "      <td>0</td>\n",
       "      <td>0</td>\n",
       "      <td>0</td>\n",
       "      <td>0</td>\n",
       "      <td>1</td>\n",
       "      <td>0</td>\n",
       "      <td>0</td>\n",
       "    </tr>\n",
       "    <tr>\n",
       "      <th>3</th>\n",
       "      <td>2006</td>\n",
       "      <td>F</td>\n",
       "      <td>18.875</td>\n",
       "      <td>0</td>\n",
       "      <td>0</td>\n",
       "      <td>0</td>\n",
       "      <td>0</td>\n",
       "      <td>0</td>\n",
       "      <td>0</td>\n",
       "      <td>0</td>\n",
       "      <td>...</td>\n",
       "      <td>0</td>\n",
       "      <td>0</td>\n",
       "      <td>0</td>\n",
       "      <td>0</td>\n",
       "      <td>0</td>\n",
       "      <td>0</td>\n",
       "      <td>0</td>\n",
       "      <td>0</td>\n",
       "      <td>0</td>\n",
       "      <td>0</td>\n",
       "    </tr>\n",
       "    <tr>\n",
       "      <th>4</th>\n",
       "      <td>2006</td>\n",
       "      <td>NaN</td>\n",
       "      <td>18.995</td>\n",
       "      <td>10</td>\n",
       "      <td>0</td>\n",
       "      <td>0</td>\n",
       "      <td>0</td>\n",
       "      <td>0</td>\n",
       "      <td>0</td>\n",
       "      <td>0</td>\n",
       "      <td>...</td>\n",
       "      <td>0</td>\n",
       "      <td>0</td>\n",
       "      <td>2</td>\n",
       "      <td>0</td>\n",
       "      <td>0</td>\n",
       "      <td>0</td>\n",
       "      <td>0</td>\n",
       "      <td>0</td>\n",
       "      <td>1</td>\n",
       "      <td>1</td>\n",
       "    </tr>\n",
       "  </tbody>\n",
       "</table>\n",
       "<p>5 rows × 40 columns</p>\n",
       "</div>"
      ],
      "text/plain": [
       "   gradyear gender     age  friends  basketball  football  soccer  softball  \\\n",
       "0      2006      M  18.982        7           0         0       0         0   \n",
       "1      2006      F  18.801        0           0         1       0         0   \n",
       "2      2006      M  18.335       69           0         1       0         0   \n",
       "3      2006      F  18.875        0           0         0       0         0   \n",
       "4      2006    NaN  18.995       10           0         0       0         0   \n",
       "\n",
       "   volleyball  swimming  ...    blonde  mall  shopping  clothes  hollister  \\\n",
       "0           0         0  ...         0     0         0        0          0   \n",
       "1           0         0  ...         0     1         0        0          0   \n",
       "2           0         0  ...         0     0         0        0          0   \n",
       "3           0         0  ...         0     0         0        0          0   \n",
       "4           0         0  ...         0     0         2        0          0   \n",
       "\n",
       "   abercrombie  die  death  drunk  drugs  \n",
       "0            0    0      0      0      0  \n",
       "1            0    0      0      0      0  \n",
       "2            0    0      1      0      0  \n",
       "3            0    0      0      0      0  \n",
       "4            0    0      0      1      1  \n",
       "\n",
       "[5 rows x 40 columns]"
      ]
     },
     "execution_count": 43,
     "metadata": {},
     "output_type": "execute_result"
    }
   ],
   "source": [
    "df_sns = pd.read_csv('snsdata.csv', sep=',')\n",
    "df_sns.head()"
   ]
  },
  {
   "cell_type": "markdown",
   "metadata": {},
   "source": [
    "Данные устроены так: \n",
    "* Год выпуска\n",
    "* Пол\n",
    "* Возраст\n",
    "* Количество друзей\n",
    "* 36 ключевых слов, которые встречаются в профилe facebook (интересы, сообщества, встречи)"
   ]
  },
  {
   "cell_type": "markdown",
   "metadata": {},
   "source": [
    "* Удалите все признаки кроме 36 ключевых слов.\n",
    "* Нормализуйте данные - из каждого столбца вычтите его среднее значение и поделите на стандартное отклонение.\n",
    "* Используйте метод k-means чтобы выделить 9 кластеров\n",
    "* Попробуйте проинтерпретировать каждый кластер проанализировав полученные центройды (Некоторые кластеры могут быть очень большие и очень маленькие - плохо интерпретируются)   \n",
    "КОММЕНТАРИИ НЕ СТИРАТЬ!"
   ]
  },
  {
   "cell_type": "code",
   "execution_count": 44,
   "metadata": {},
   "outputs": [
    {
     "name": "stderr",
     "output_type": "stream",
     "text": [
      "/home/nariman/anaconda3/lib/python3.7/site-packages/sklearn/utils/validation.py:475: DataConversionWarning: Data with input dtype int64 was converted to float64 by StandardScaler.\n",
      "  warnings.warn(msg, DataConversionWarning)\n"
     ]
    }
   ],
   "source": [
    "df_sns = df_sns.drop(['gradyear', 'gender', 'age', 'friends'], axis=1)\n",
    "X = df_sns.values\n",
    "scaler = StandardScaler()\n",
    "scaler.fit(X)\n",
    "X = scaler.transform(X)"
   ]
  },
  {
   "cell_type": "code",
   "execution_count": 47,
   "metadata": {},
   "outputs": [
    {
     "name": "stdout",
     "output_type": "stream",
     "text": [
      "Index(['god', 'rock', 'music', 'band', 'marching'], dtype='object') 578\n",
      "Index(['drunk', 'sex', 'hair', 'drugs', 'kissed'], dtype='object') 885\n",
      "Index(['music', 'church', 'god', 'jesus', 'bible'], dtype='object') 378\n",
      "Index(['rock', 'music', 'god', 'die', 'death'], dtype='object') 1909\n",
      "Index(['cute', 'music', 'clothes', 'shopping', 'swimming'], dtype='object') 495\n",
      "Index(['drunk', 'bible', 'jesus', 'tennis', 'blonde'], dtype='object') 19349\n",
      "Index(['clothes', 'mall', 'shopping', 'abercrombie', 'hollister'], dtype='object') 843\n",
      "Index(['mall', 'dance', 'cute', 'sexy', 'hot'], dtype='object') 986\n",
      "Index(['mall', 'baseball', 'shopping', 'basketball', 'football'], dtype='object') 4577\n",
      "CPU times: user 5.97 s, sys: 140 ms, total: 6.11 s\n",
      "Wall time: 1.63 s\n"
     ]
    }
   ],
   "source": [
    "%%time\n",
    "k = 9\n",
    "words = df_sns.columns\n",
    "## MyKMeans\n",
    "km = MyKmeans(k=k)\n",
    "km.fit(X)\n",
    "labels = km.predict(X)\n",
    "for (i, centr) in enumerate(km.centroids):\n",
    "    print (words[np.argsort(centr)[-5:]], labels[labels\n",
    "           == i].size)"
   ]
  },
  {
   "cell_type": "code",
   "execution_count": 52,
   "metadata": {},
   "outputs": [
    {
     "name": "stdout",
     "output_type": "stream",
     "text": [
      "Index(['bible', 'jesus', 'death', 'tennis', 'blonde'], dtype='object') 19324\n",
      "Index(['die', 'hair', 'drunk', 'kissed', 'drugs'], dtype='object') 1103\n",
      "Index(['clothes', 'mall', 'shopping', 'abercrombie', 'hollister'], dtype='object') 849\n",
      "Index(['death', 'church', 'god', 'jesus', 'bible'], dtype='object') 549\n",
      "Index(['god', 'rock', 'music', 'band', 'marching'], dtype='object') 767\n",
      "Index(['clothes', 'hot', 'mall', 'cute', 'shopping'], dtype='object') 4302\n",
      "Index(['volleyball', 'football', 'softball', 'baseball', 'basketball'], dtype='object') 2068\n",
      "Index(['music', 'rock', 'hair', 'sex', 'kissed'], dtype='object') 119\n",
      "Index(['shopping', 'music', 'cute', 'dress', 'dance'], dtype='object') 919\n"
     ]
    }
   ],
   "source": [
    "## MyKMeans++\n",
    "km = MyKmeans(k=k, init='k-means')\n",
    "km.fit(X)\n",
    "labels = km.predict(X)\n",
    "for (i, centr) in enumerate(km.centroids):\n",
    "    print (words[np.argsort(centr)[-5:]], labels[labels\n",
    "           == i].size)"
   ]
  },
  {
   "cell_type": "code",
   "execution_count": 51,
   "metadata": {},
   "outputs": [
    {
     "name": "stdout",
     "output_type": "stream",
     "text": [
      "Index(['shopping', 'rock', 'abercrombie', 'cute', 'dance'], dtype='object') 3711\n",
      "Index(['volleyball', 'death', 'cute', 'church', 'god'], dtype='object') 1428\n",
      "Index(['football', 'die', 'volleyball', 'band', 'marching'], dtype='object') 12378\n",
      "Index(['baseball', 'tennis', 'cute', 'bible', 'hot'], dtype='object') 1239\n",
      "Index(['sexy', 'kissed', 'rock', 'hair', 'sex'], dtype='object') 361\n",
      "Index(['drugs', 'abercrombie', 'sports', 'baseball', 'basketball'], dtype='object') 1613\n",
      "Index(['hollister', 'drugs', 'kissed', 'hair', 'clothes'], dtype='object') 277\n",
      "Index(['drugs', 'tennis', 'marching', 'bible', 'blonde'], dtype='object') 8714\n",
      "Index(['cute', 'rock', 'drugs', 'jesus', 'music'], dtype='object') 279\n"
     ]
    }
   ],
   "source": [
    "## MyKMeans с MiniBatchMyKMeans\n",
    "\n",
    "batch_size = 100\n",
    "km = MiniBatchKMeans(k=k, batch_size=batch_size)\n",
    "km.fit(X)\n",
    "labels = km.predict(X)\n",
    "for (i, centr) in enumerate(km.centroids):\n",
    "    print (words[np.argsort(centr)[-5:]], labels[labels\n",
    "           == i].size)"
   ]
  },
  {
   "cell_type": "code",
   "execution_count": 50,
   "metadata": {},
   "outputs": [
    {
     "name": "stdout",
     "output_type": "stream",
     "text": [
      "Index(['shopping', 'mall', 'band', 'dance', 'church'], dtype='object') 1005\n",
      "Index(['hot', 'sports', 'sexy', 'blonde', 'bible'], dtype='object') 21394\n",
      "Index(['blonde', 'god', 'hair', 'sports', 'tennis'], dtype='object') 259\n",
      "Index(['hot', 'volleyball', 'swimming', 'sports', 'soccer'], dtype='object') 1135\n",
      "Index(['jesus', 'hot', 'basketball', 'death', 'football'], dtype='object') 1308\n",
      "Index(['football', 'mall', 'hot', 'basketball', 'baseball'], dtype='object') 561\n",
      "Index(['dress', 'kissed', 'clothes', 'rock', 'cute'], dtype='object') 885\n",
      "Index(['cute', 'cheerleading', 'drugs', 'volleyball', 'shopping'], dtype='object') 2932\n",
      "Index(['hair', 'shopping', 'hollister', 'clothes', 'abercrombie'], dtype='object') 521\n"
     ]
    }
   ],
   "source": [
    "## MyKMeans++ с MiniBatchMyKMeans\n",
    "\n",
    "km = MiniBatchKMeans(k=k, batch_size=batch_size, init='k-means')\n",
    "km.fit(X)\n",
    "labels = km.predict(X)\n",
    "for (i, centr) in enumerate(km.centroids):\n",
    "    print (words[np.argsort(centr)[-5:]], labels[labels\n",
    "           == i].size)"
   ]
  },
  {
   "cell_type": "code",
   "execution_count": 22,
   "metadata": {},
   "outputs": [],
   "source": [
    "## Вывод"
   ]
  },
  {
   "cell_type": "markdown",
   "metadata": {},
   "source": [
    "Есть некоторые сравнительно крупные кластеры, которые неплохо интерпретируются, есть такие, которые абсолютно непонятны. Возможно количество кластеров неоптимально, возможно случайный элемент кластеризации сработал не так, как ожидалось.\n",
    "По поводу самих методов:\n",
    "Все предсказуемо - минибатч дает хорошее ускорение, если не меняется число итераций, улучшеный k-mean срабатывает хорошо, но непонятно, что будет на более сложно расположенных данных. Каждое улучшение следует применять тщательно задумавшись."
   ]
  }
 ],
 "metadata": {
  "anaconda-cloud": {},
  "kernelspec": {
   "display_name": "Python 3",
   "language": "python",
   "name": "python3"
  },
  "language_info": {
   "codemirror_mode": {
    "name": "ipython",
    "version": 3
   },
   "file_extension": ".py",
   "mimetype": "text/x-python",
   "name": "python",
   "nbconvert_exporter": "python",
   "pygments_lexer": "ipython3",
   "version": "3.7.0"
  },
  "nav_menu": {},
  "toc": {
   "navigate_menu": true,
   "number_sections": false,
   "sideBar": true,
   "threshold": 6,
   "toc_cell": false,
   "toc_section_display": "block",
   "toc_window_display": true
  }
 },
 "nbformat": 4,
 "nbformat_minor": 2
}
